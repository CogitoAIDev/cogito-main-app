{
 "cells": [
  {
   "cell_type": "code",
   "execution_count": 1,
   "metadata": {},
   "outputs": [],
   "source": [
    "from langchain_openai import ChatOpenAI\n",
    "from langchain.llms import OpenAI\n",
    "from langchain import PromptTemplate\n",
    "from langchain.chains import LLMChain\n",
    "from dotenv import load_dotenv\n",
    "import os\n",
    "load_dotenv()\n",
    "\n",
    "llm = ChatOpenAI(api_key=os.getenv(\"OPENAI_API_KEY\"), temperature=0.7, model='gpt-3.5-turbo-0125')"
   ]
  },
  {
   "cell_type": "code",
   "execution_count": 21,
   "metadata": {},
   "outputs": [],
   "source": [
    "prompt_template_name = PromptTemplate(\n",
    "    input_variables = ['animal_type'],\n",
    "    template = \"I have an {animal_type} pet, it is {pet_color} color, and I want a cool name for it. Suggest me 5 cool names for it\"\n",
    ")"
   ]
  },
  {
   "cell_type": "code",
   "execution_count": 22,
   "metadata": {},
   "outputs": [],
   "source": [
    "def generate_pet_name(animal_type, pet_color):\n",
    "    name_chain = LLMChain(llm= llm, prompt=prompt_template_name)\n",
    "    response = name_chain({'animal_type': animal_type, 'pet_color': pet_color})\n",
    "    return response\n"
   ]
  },
  {
   "cell_type": "code",
   "execution_count": 24,
   "metadata": {},
   "outputs": [
    {
     "data": {
      "text/plain": [
       "{'animal_type': 'cat',\n",
       " 'pet_color': 'white',\n",
       " 'text': '1. Blizzard\\n2. Luna\\n3. Ghost\\n4. Snowball\\n5. Frosty'}"
      ]
     },
     "execution_count": 24,
     "metadata": {},
     "output_type": "execute_result"
    }
   ],
   "source": [
    "generate_pet_name(\"cat\", 'white')"
   ]
  },
  {
   "cell_type": "code",
   "execution_count": 22,
   "metadata": {},
   "outputs": [],
   "source": [
    "from langchain.agents import tool\n",
    "\n",
    "\n",
    "@tool\n",
    "def get_word_length(word: str) -> int:\n",
    "    \"\"\"Returns the length of a word.\"\"\"\n",
    "    return len(word)\n",
    "\n"
   ]
  },
  {
   "cell_type": "code",
   "execution_count": 7,
   "metadata": {},
   "outputs": [],
   "source": [
    "from langchain_community.tools.tavily_search import TavilySearchResults\n",
    "\n"
   ]
  },
  {
   "cell_type": "code",
   "execution_count": 11,
   "metadata": {},
   "outputs": [],
   "source": [
    "from langchain.utilities import WikipediaAPIWrapper"
   ]
  },
  {
   "cell_type": "code",
   "execution_count": 12,
   "metadata": {},
   "outputs": [],
   "source": [
    "wikipedia = WikipediaAPIWrapper()"
   ]
  },
  {
   "cell_type": "code",
   "execution_count": 15,
   "metadata": {},
   "outputs": [],
   "source": [
    "from langchain.tools import DuckDuckGoSearchRun"
   ]
  },
  {
   "cell_type": "code",
   "execution_count": 16,
   "metadata": {},
   "outputs": [],
   "source": [
    "search = DuckDuckGoSearchRun()"
   ]
  },
  {
   "cell_type": "code",
   "execution_count": 17,
   "metadata": {},
   "outputs": [],
   "source": [
    "from langchain.agents import Tool\n",
    "\n",
    "\n",
    "wikipedia_tool = Tool(\n",
    "    name='wikipedia',\n",
    "    func= wikipedia.run,\n",
    "    description=\"Useful for when you need to look up a topic, country or person on wikipedia\"\n",
    ")\n",
    "\n",
    "duckduckgo_tool = Tool(\n",
    "    name='DuckDuckGo Search',\n",
    "    func= search.run,\n",
    "    description=\"Useful for when you need to do a search on the internet to find information that another tool can't find. be specific with your input.\"\n",
    ")"
   ]
  },
  {
   "cell_type": "code",
   "execution_count": 18,
   "metadata": {},
   "outputs": [],
   "source": [
    "tools = [ get_word_length, wikipedia_tool, duckduckgo_tool]"
   ]
  },
  {
   "cell_type": "code",
   "execution_count": 27,
   "metadata": {},
   "outputs": [],
   "source": [
    "from langchain.agents import initialize_agent\n",
    "\n",
    "zero_shot_agent = initialize_agent(\n",
    "    agent=\"zero-shot-react-description\",\n",
    "    tools=tools,\n",
    "    llm=llm,\n",
    "    verbose=True,\n",
    "    max_iterations=10,\n",
    ")"
   ]
  },
  {
   "cell_type": "code",
   "execution_count": 28,
   "metadata": {},
   "outputs": [
    {
     "name": "stdout",
     "output_type": "stream",
     "text": [
      "\n",
      "\n",
      "\u001b[1m> Entering new AgentExecutor chain...\u001b[0m\n",
      "\u001b[32;1m\u001b[1;3mI need to find out the name of the richest country in Europe first before counting the letters in its name.\n",
      "Action: DuckDuckGo Search\n",
      "Action Input: \"richest country in Europe\"\u001b[0m\n",
      "Observation: \u001b[38;5;200m\u001b[1;3mIn 2021, Sweden's total wealth stood at $2.990 trillion, making it one of the richest countries in Europe. Belgium is a country in Northwestern Europe with Brussels as its capital and largest ... GDP of European countries in 2022. With a Gross Domestic Product of over 3.87 trillion Euros, the German economy was by far the largest in Europe in 2022. The similar-sized economies of the United ... Monaco is home to one of the world's wealthiest populations, and has the highest level of GDP per capita in Europe. Like Monaco, the small size of Liechtenstein has led to it being among the highest ranked European states for GDP per capita. Luxembourg is home to an established financial sector as well as one of Europe's richest populations. according to International Monetary Fund estimates [n 1] [1] Countries by nominal GDP in 2019 [n 2] > $20 trillion. $10-20 trillion. $5-10 trillion. $1-5 trillion. $750 billion - $1 trillion. $500-750 billion. $250-500 billion. Countries by total wealth, 2022 (2023 publication) National net wealth, also known as national net worth, is the total sum of the value of a country's assets minus its liabilities.It refers to the total value of net wealth possessed by the residents of a state at a set point in time. Despite the name, figures in this article only cover household wealth and exclude government wealth, which may ...\u001b[0m\n",
      "Thought:\u001b[32;1m\u001b[1;3mNow that I know Sweden is the richest country in Europe, I can count the letters in its name.\n",
      "Action: get_word_length\n",
      "Action Input: \"Sweden\"\u001b[0m\n",
      "Observation: \u001b[36;1m\u001b[1;3m6\u001b[0m\n",
      "Thought:\u001b[32;1m\u001b[1;3mI now know the final answer\n",
      "Final Answer: 6\u001b[0m\n",
      "\n",
      "\u001b[1m> Finished chain.\u001b[0m\n"
     ]
    },
    {
     "data": {
      "text/plain": [
       "'6'"
      ]
     },
     "execution_count": 28,
     "metadata": {},
     "output_type": "execute_result"
    }
   ],
   "source": [
    "zero_shot_agent.run(\"how many letters are in the name of the richiest country in europe?\")"
   ]
  }
 ],
 "metadata": {
  "kernelspec": {
   "display_name": "cogito",
   "language": "python",
   "name": "python3"
  },
  "language_info": {
   "codemirror_mode": {
    "name": "ipython",
    "version": 3
   },
   "file_extension": ".py",
   "mimetype": "text/x-python",
   "name": "python",
   "nbconvert_exporter": "python",
   "pygments_lexer": "ipython3",
   "version": "3.11.9"
  }
 },
 "nbformat": 4,
 "nbformat_minor": 2
}
