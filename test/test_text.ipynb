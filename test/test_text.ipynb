{
 "cells": [
  {
   "cell_type": "code",
   "execution_count": 26,
   "metadata": {},
   "outputs": [
    {
     "data": {
      "text/plain": [
       "{'status': 'Message sent successfully',\n",
       " 'response': {'ok': True,\n",
       "  'result': {'message_id': 303,\n",
       "   'from': {'id': 6918195838,\n",
       "    'is_bot': True,\n",
       "    'first_name': 'Cogito',\n",
       "    'username': 'cogitodev_bot'},\n",
       "   'chat': {'id': 394225819,\n",
       "    'first_name': 'Dima',\n",
       "    'username': 'to505to505',\n",
       "    'type': 'private'},\n",
       "   'date': 1714933260,\n",
       "   'text': 'fuck you:'}}}"
      ]
     },
     "execution_count": 26,
     "metadata": {},
     "output_type": "execute_result"
    }
   ],
   "source": [
    "from fastapi import FastAPI, HTTPException\n",
    "from pydantic import BaseModel\n",
    "import httpx\n",
    "\n",
    "from dotenv import load_dotenv\n",
    "import os\n",
    "TG_BOT_TOKEN = os.getenv(\"TG_BOT_TOKEN\")\n",
    "\n",
    "# TelegramAPI, to which we send messages\n",
    "telegram_api_url = f\"https://api.telegram.org/bot{TG_BOT_TOKEN}/sendMessage\"\n",
    "\n",
    "app = FastAPI()\n",
    "class Message(BaseModel):\n",
    "    \"\"\"\n",
    "     Message that is sent to user via telegram.\n",
    "     Attributes:\n",
    "        chat_id (int): User's tg chat id, same as the user_id in the DB.\n",
    "        text (str): Text that is sent to user.\n",
    "\n",
    "    \"\"\"\n",
    "    chat_id: int\n",
    "    text: str\n",
    "    def __init__(self, **data):\n",
    "        super().__init__(**data)\n",
    "\n",
    "\n",
    "\n",
    "@app.post(\"/send-message/\")\n",
    "async def send_message(request: Message):\n",
    "    \"\"\"\n",
    "     Sending message to user via TelegramAPI.\n",
    "\n",
    "     Parameters:\n",
    "        request (Message): Message that is sent to user.\n",
    "\n",
    "    \"\"\"\n",
    "    # Constructing dict to send\n",
    "    message_data = {\"chat_id\": request.chat_id, \"text\": request.text}\n",
    "\n",
    "    # Sending dict to TelegramAPI\n",
    "    async with httpx.AsyncClient() as client:\n",
    "        response = await client.post(telegram_api_url, json=message_data)\n",
    "        if response.status_code != 200:\n",
    "            raise HTTPException(status_code=400, detail=\"Failed to send message\")\n",
    "\n",
    "    return {\"status\": \"Message sent successfully\", \"response\": response.json()}\n",
    "\n",
    "message = Message(chat_id=394225819, text=\"fuck you: \")\n",
    "\n",
    "await send_message(message)"
   ]
  },
  {
   "cell_type": "code",
   "execution_count": 37,
   "metadata": {},
   "outputs": [],
   "source": [
    "message = Message(chat_id=916491205, text=\"Привет \")"
   ]
  },
  {
   "cell_type": "code",
   "execution_count": 38,
   "metadata": {},
   "outputs": [
    {
     "data": {
      "text/plain": [
       "{'status': 'Message sent successfully',\n",
       " 'response': {'ok': True,\n",
       "  'result': {'message_id': 309,\n",
       "   'from': {'id': 6918195838,\n",
       "    'is_bot': True,\n",
       "    'first_name': 'Cogito',\n",
       "    'username': 'cogitodev_bot'},\n",
       "   'chat': {'id': 916491205,\n",
       "    'first_name': 'Владимир',\n",
       "    'last_name': 'Лимингус',\n",
       "    'username': 'kwazzart',\n",
       "    'type': 'private'},\n",
       "   'date': 1714933543,\n",
       "   'text': 'я ебал твою мать'}}}"
      ]
     },
     "execution_count": 38,
     "metadata": {},
     "output_type": "execute_result"
    }
   ],
   "source": [
    "await send_message(message)"
   ]
  }
 ],
 "metadata": {
  "kernelspec": {
   "display_name": "cogito",
   "language": "python",
   "name": "python3"
  },
  "language_info": {
   "codemirror_mode": {
    "name": "ipython",
    "version": 3
   },
   "file_extension": ".py",
   "mimetype": "text/x-python",
   "name": "python",
   "nbconvert_exporter": "python",
   "pygments_lexer": "ipython3",
   "version": "3.11.9"
  }
 },
 "nbformat": 4,
 "nbformat_minor": 2
}
